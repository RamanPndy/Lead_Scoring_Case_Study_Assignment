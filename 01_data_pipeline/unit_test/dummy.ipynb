{
 "cells": [
  {
   "cell_type": "code",
   "execution_count": 1,
   "metadata": {},
   "outputs": [],
   "source": [
    "from utils import *"
   ]
  },
  {
   "cell_type": "code",
   "execution_count": 2,
   "metadata": {},
   "outputs": [
    {
     "name": "stdout",
     "output_type": "stream",
     "text": [
      "DB Already Exists\n"
     ]
    }
   ],
   "source": [
    "build_dbs()"
   ]
  },
  {
   "cell_type": "code",
   "execution_count": 3,
   "metadata": {},
   "outputs": [
    {
     "name": "stdout",
     "output_type": "stream",
     "text": [
      "reading data from path:  /Users/rpandey1/Desktop/Upgrad/Assignment/01_data_pipeline/scripts/data/leadscoring.csv\n"
     ]
    },
    {
     "name": "stderr",
     "output_type": "stream",
     "text": [
      "/Users/rpandey1/Desktop/Upgrad/Assignment/01_data_pipeline/scripts/utils.py:100: FutureWarning: A value is trying to be set on a copy of a DataFrame or Series through chained assignment using an inplace method.\n",
      "The behavior will change in pandas 3.0. This inplace method will never work because the intermediate object on which we are setting values always behaves as a copy.\n",
      "\n",
      "For example, when doing 'df[col].method(value, inplace=True)', try using 'df.method({col: value}, inplace=True)' or df[col] = df[col].method(value) instead, to perform the operation inplace on the original object.\n",
      "\n",
      "\n",
      "  df[\"total_leads_droppped\"].fillna(0, inplace=True)\n",
      "/Users/rpandey1/Desktop/Upgrad/Assignment/01_data_pipeline/scripts/utils.py:101: FutureWarning: A value is trying to be set on a copy of a DataFrame or Series through chained assignment using an inplace method.\n",
      "The behavior will change in pandas 3.0. This inplace method will never work because the intermediate object on which we are setting values always behaves as a copy.\n",
      "\n",
      "For example, when doing 'df[col].method(value, inplace=True)', try using 'df.method({col: value}, inplace=True)' or df[col] = df[col].method(value) instead, to perform the operation inplace on the original object.\n",
      "\n",
      "\n",
      "  df[\"referred_lead\"].fillna(0, inplace=True)\n"
     ]
    },
    {
     "name": "stdout",
     "output_type": "stream",
     "text": [
      "connecting to db from path:  /Users/rpandey1/Desktop/Upgrad/Assignment/01_data_pipeline/scripts/utils_output.db\n",
      "Data successfully loaded into the database.\n"
     ]
    }
   ],
   "source": [
    "load_data_into_db()"
   ]
  },
  {
   "cell_type": "code",
   "execution_count": 4,
   "metadata": {},
   "outputs": [
    {
     "name": "stdout",
     "output_type": "stream",
     "text": [
      "connecting to db from path:  /Users/rpandey1/Desktop/Upgrad/Assignment/01_data_pipeline/scripts/utils_output.db\n",
      "first_platform_c\n",
      "['Level0', 'Level3', 'Level7', 'Level1', 'Level2', 'Level8']\n",
      "\n",
      "\n",
      "first_utm_medium_c\n",
      "['Level0', 'Level2', 'Level6', 'Level3', 'Level4', 'Level9', 'Level11', 'Level5', 'Level8', 'Level20', 'Level13', 'Level30', 'Level33', 'Level16', 'Level10', 'Level15', 'Level26', 'Level43']\n",
      "\n",
      "\n",
      "first_utm_source_c\n",
      "['Level2', 'Level0', 'Level7', 'Level4', 'Level6', 'Level16', 'Level5', 'Level14']\n",
      "\n",
      "\n",
      "City tier mapping completed and saved to database.\n"
     ]
    }
   ],
   "source": [
    "map_city_tier()"
   ]
  },
  {
   "cell_type": "code",
   "execution_count": 5,
   "metadata": {},
   "outputs": [
    {
     "name": "stdout",
     "output_type": "stream",
     "text": [
      "connecting to db from path:  /Users/rpandey1/Desktop/Upgrad/Assignment/01_data_pipeline/scripts/utils_output.db\n"
     ]
    },
    {
     "name": "stderr",
     "output_type": "stream",
     "text": [
      "/Users/rpandey1/Desktop/Upgrad/Assignment/01_data_pipeline/scripts/utils.py:183: SettingWithCopyWarning: \n",
      "A value is trying to be set on a copy of a slice from a DataFrame.\n",
      "Try using .loc[row_indexer,col_indexer] = value instead\n",
      "\n",
      "See the caveats in the documentation: https://pandas.pydata.org/pandas-docs/stable/user_guide/indexing.html#returning-a-view-versus-a-copy\n",
      "  new_df[column] = \"others\" # replace the value of these levels to others\n"
     ]
    }
   ],
   "source": [
    "map_categorical_vars()"
   ]
  },
  {
   "cell_type": "code",
   "execution_count": 6,
   "metadata": {},
   "outputs": [
    {
     "name": "stdout",
     "output_type": "stream",
     "text": [
      "connecting to db from path:  /Users/rpandey1/Desktop/Upgrad/Assignment/01_data_pipeline/scripts/utils_output.db\n"
     ]
    }
   ],
   "source": [
    "interactions_mapping()"
   ]
  }
 ],
 "metadata": {
  "kernelspec": {
   "display_name": ".venv",
   "language": "python",
   "name": "python3"
  },
  "language_info": {
   "codemirror_mode": {
    "name": "ipython",
    "version": 3
   },
   "file_extension": ".py",
   "mimetype": "text/x-python",
   "name": "python",
   "nbconvert_exporter": "python",
   "pygments_lexer": "ipython3",
   "version": "3.9.6"
  }
 },
 "nbformat": 4,
 "nbformat_minor": 2
}
